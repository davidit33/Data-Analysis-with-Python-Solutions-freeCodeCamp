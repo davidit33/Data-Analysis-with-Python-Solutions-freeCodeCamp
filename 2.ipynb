{
 "metadata": {
  "language_info": {
   "codemirror_mode": {
    "name": "ipython",
    "version": 3
   },
   "file_extension": ".py",
   "mimetype": "text/x-python",
   "name": "python",
   "nbconvert_exporter": "python",
   "pygments_lexer": "ipython3",
   "version": "3.8.5-final"
  },
  "orig_nbformat": 2,
  "kernelspec": {
   "name": "python3",
   "display_name": "Python 3.8.5 64-bit ('base': conda)",
   "metadata": {
    "interpreter": {
     "hash": "0830f8391d290b898d6ce43d956100356df7aa133531614b52fa7a17ebcf8d8a"
    }
   }
  }
 },
 "nbformat": 4,
 "nbformat_minor": 2,
 "cells": [
  {
   "cell_type": "code",
   "execution_count": 2,
   "metadata": {},
   "outputs": [],
   "source": [
    "import pandas as pd"
   ]
  },
  {
   "cell_type": "code",
   "execution_count": 3,
   "metadata": {},
   "outputs": [],
   "source": [
    "df = pd.read_csv('adult.data.csv')"
   ]
  },
  {
   "cell_type": "code",
   "execution_count": 4,
   "metadata": {},
   "outputs": [
    {
     "output_type": "execute_result",
     "data": {
      "text/plain": [
       "Index(['age', 'workclass', 'fnlwgt', 'education', 'education-num',\n",
       "       'marital-status', 'occupation', 'relationship', 'race', 'sex',\n",
       "       'capital-gain', 'capital-loss', 'hours-per-week', 'native-country',\n",
       "       'salary'],\n",
       "      dtype='object')"
      ]
     },
     "metadata": {},
     "execution_count": 4
    }
   ],
   "source": [
    "df.columns"
   ]
  },
  {
   "cell_type": "code",
   "execution_count": 5,
   "metadata": {},
   "outputs": [
    {
     "output_type": "stream",
     "name": "stdout",
     "text": [
      "Number of each race:\n White                 27816\nBlack                  3124\nAsian-Pac-Islander     1039\nAmer-Indian-Eskimo      311\nOther                   271\nName: race, dtype: int64\n"
     ]
    }
   ],
   "source": [
    "race_count = df['race'].value_counts()\n",
    "print(\"Number of each race:\\n\", race_count)\n"
   ]
  },
  {
   "cell_type": "code",
   "execution_count": 6,
   "metadata": {},
   "outputs": [
    {
     "output_type": "stream",
     "name": "stdout",
     "text": [
      "Average age of men: 39.43354749885268\n"
     ]
    }
   ],
   "source": [
    "average_age_men = df[df['sex'] == 'Male']['age'].mean()\n",
    "print(\"Average age of men:\", average_age_men)"
   ]
  },
  {
   "cell_type": "code",
   "execution_count": 7,
   "metadata": {},
   "outputs": [
    {
     "output_type": "execute_result",
     "data": {
      "text/plain": [
       "32561"
      ]
     },
     "metadata": {},
     "execution_count": 7
    }
   ],
   "source": [
    "total = df['education'].count()\n",
    "total"
   ]
  },
  {
   "cell_type": "code",
   "execution_count": 8,
   "metadata": {},
   "outputs": [
    {
     "output_type": "stream",
     "name": "stdout",
     "text": [
      "Percentage with Bachelors degrees: 16.44605509658794%\n"
     ]
    }
   ],
   "source": [
    "percentage_bachelors = ((df[df['education'] == 'Bachelors']['education'].count()) / (df['education'].count())) * 100\n",
    "print(f\"Percentage with Bachelors degrees: {percentage_bachelors}%\")"
   ]
  },
  {
   "cell_type": "code",
   "execution_count": 19,
   "metadata": {},
   "outputs": [
    {
     "output_type": "stream",
     "name": "stdout",
     "text": [
      "23.006050182733944\n"
     ]
    }
   ],
   "source": [
    "# with and without `Bachelors`, `Masters`, or `Doctorate`\n",
    "filt_high = (df['education'] == 'Bachelors') | (df['education'] == 'Masters') | (df['education']  == 'Doctorate')\n",
    "higher_education = (df[filt_high]['education'].count() / (df['education'].count())) * 100\n",
    "print(higher_education)"
   ]
  },
  {
   "cell_type": "code",
   "execution_count": 21,
   "metadata": {},
   "outputs": [
    {
     "output_type": "stream",
     "name": "stdout",
     "text": [
      "76.99394981726606\n"
     ]
    }
   ],
   "source": [
    "# with and without `Bachelors`, `Masters`, or `Doctorate`\n",
    "filt_low = (df['education'] != 'Bachelors') & (df['education'] != 'Masters') & (df['education']  != 'Doctorate') \n",
    "lower_education = (df[filt_low]['education'].count() / (df['education'].count())) * 100\n",
    "print(lower_education)"
   ]
  },
  {
   "cell_type": "code",
   "execution_count": 11,
   "metadata": {},
   "outputs": [
    {
     "output_type": "stream",
     "name": "stdout",
     "text": [
      "100.0\n"
     ]
    }
   ],
   "source": [
    "print(23.006050182733944 + 76.99394981726606)"
   ]
  },
  {
   "cell_type": "code",
   "execution_count": 18,
   "metadata": {},
   "outputs": [
    {
     "output_type": "stream",
     "name": "stdout",
     "text": [
      "7491\n25070\n32561\n32561\n46.535843011613935\n17.3713601914639\n"
     ]
    }
   ],
   "source": [
    "print(df[filt_high]['education'].count())\n",
    "print(df[filt_low]['education'].count())\n",
    "print(df['education'].count())\n",
    "print(7491 + 25070)\n",
    "\n",
    "# percentage with salary >50K\n",
    "filt_rich_high_educ = ((df['education'] == 'Bachelors') | (df['education'] == 'Masters') | (df['education']  == 'Doctorate')) & (df['salary'] == '>50K')\n",
    "higher_education_rich = (df[filt_rich_high_educ]['salary'].count() / df[filt_high]['education'].count()) * 100\n",
    "print(higher_education_rich)\n",
    "#print(df[filt_high_salary]['salary'].count())\n",
    "filt_rich_low_educ = ((df['education'] != 'Bachelors') & (df['education'] != 'Masters') & (df['education']  != 'Doctorate')) & (df['salary'] == '>50K')\n",
    "lower_education_rich = (df[filt_rich_low_educ]['salary'].count() / df[filt_low]['education'].count()) * 100\n",
    "print(lower_education_rich)\n"
   ]
  },
  {
   "cell_type": "code",
   "execution_count": 27,
   "metadata": {},
   "outputs": [
    {
     "output_type": "execute_result",
     "data": {
      "text/plain": [
       "99"
      ]
     },
     "metadata": {},
     "execution_count": 27
    }
   ],
   "source": [
    "# What is the minimum number of hours a person works per week (hours-per-week feature)?\n",
    "df['hours-per-week'].min()\n"
   ]
  },
  {
   "cell_type": "code",
   "execution_count": 30,
   "metadata": {},
   "outputs": [
    {
     "output_type": "stream",
     "name": "stdout",
     "text": [
      "20\n2\n"
     ]
    },
    {
     "output_type": "execute_result",
     "data": {
      "text/plain": [
       "10.0"
      ]
     },
     "metadata": {},
     "execution_count": 30
    }
   ],
   "source": [
    "filt_min_hours_week = df['hours-per-week'] == 1\n",
    "num_min_workers = df[filt_min_hours_week]['hours-per-week'].count()\n",
    "print(num_min_workers) # 20\n",
    "filt_min_hours_week_rich = (df['hours-per-week'] == 1) & (df['salary'] == '>50K')\n",
    "print(df[filt_min_hours_week_rich]['salary'].count())\n",
    "rich_percentage = (df[filt_min_hours_week_rich]['salary'].count() /  num_min_workers) * 100\n",
    "rich_percentage\n"
   ]
  },
  {
   "cell_type": "code",
   "execution_count": 76,
   "metadata": {},
   "outputs": [
    {
     "output_type": "stream",
     "name": "stdout",
     "text": [
      "United-States         7171\n?                      146\nPhilippines             61\nGermany                 44\nIndia                   40\nCanada                  39\nMexico                  33\nEngland                 30\nItaly                   25\nCuba                    25\nJapan                   24\nTaiwan                  20\nChina                   20\nIran                    18\nSouth                   16\nPuerto-Rico             12\nFrance                  12\nPoland                  12\nJamaica                 10\nEl-Salvador              9\nGreece                   8\nCambodia                 7\nHong                     6\nYugoslavia               6\nVietnam                  5\nIreland                  5\nPortugal                 4\nHaiti                    4\nEcuador                  4\nThailand                 3\nHungary                  3\nGuatemala                3\nScotland                 3\nLaos                     2\nTrinadad&Tobago          2\nDominican-Republic       2\nNicaragua                2\nColumbia                 2\nPeru                     2\nHonduras                 1\nName: native-country, dtype: int64\nUnited-States\n7171\n7841\n91.45517153424308\n"
     ]
    }
   ],
   "source": [
    "# What country has the highest percentage of people that earn >50K?\n",
    "filt_high_salary_coutry = df[df['salary'] == '>50K']['native-country'].value_counts()\n",
    "filt_high_salary_coutry.index[0]\n",
    "print(filt_high_salary_coutry)\n",
    "print(filt_high_salary_coutry.index[0])\n",
    "print(filt_high_salary_coutry[0])\n",
    "filt_people_rich = df['salary'] == '>50K'\n",
    "print(df[count_people_rich]['salary'].count())\n",
    "highest_earning_country_percentage = (filt_high_salary_coutry[0] / df[filt_people_rich]['salary'].count())*100\n",
    "print(highest_earning_country_percentage)"
   ]
  },
  {
   "cell_type": "code",
   "execution_count": 73,
   "metadata": {},
   "outputs": [
    {
     "output_type": "execute_result",
     "data": {
      "text/plain": [
       "'Prof-specialty'"
      ]
     },
     "metadata": {},
     "execution_count": 73
    }
   ],
   "source": [
    "# Identify the most popular occupation for those who earn >50K in India.\n",
    "filt_country_high_salary = (df['native-country'] == 'India') & (df['salary'] == '>50K')\n",
    "#df[filt_country_high_salary]['occupation'].value_counts()\n",
    "top_IN_occupation = (df[filt_country_high_salary]['occupation'].value_counts()).index[0]\n",
    "top_IN_occupation"
   ]
  },
  {
   "cell_type": "code",
   "execution_count": 124,
   "metadata": {},
   "outputs": [],
   "source": [
    "highest_earning_country = (df.loc[df[\"salary\"] == \">50K\",\"native-country\"].value_counts() / df[\"native-country\"].value_counts()).fillna(0).sort_values(ascending=False).index[0]"
   ]
  },
  {
   "cell_type": "code",
   "execution_count": 125,
   "metadata": {},
   "outputs": [],
   "source": [
    "highest_earning_country_percentage = round(len(df[(df[\"native-country\"] == highest_earning_country) & (df[\"salary\"] == \">50K\")]) / len(df[df[\"native-country\"] == highest_earning_country]) * 100, 1)"
   ]
  },
  {
   "cell_type": "code",
   "execution_count": 126,
   "metadata": {},
   "outputs": [
    {
     "output_type": "stream",
     "name": "stdout",
     "text": [
      "Iran\n41.9\n"
     ]
    }
   ],
   "source": [
    "print(highest_earning_country)\n",
    "print(highest_earning_country_percentage)"
   ]
  },
  {
   "cell_type": "code",
   "execution_count": 132,
   "metadata": {},
   "outputs": [
    {
     "output_type": "execute_result",
     "data": {
      "text/plain": [
       "'Iran'"
      ]
     },
     "metadata": {},
     "execution_count": 132
    }
   ],
   "source": [
    "highest_earning_country = (df.loc[df[\"salary\"] == \">50K\",\"native-country\"].value_counts() / df[\"native-country\"].value_counts()).sort_values(ascending=False).index[0]\n",
    "highest_earning_country"
   ]
  },
  {
   "cell_type": "code",
   "execution_count": null,
   "metadata": {},
   "outputs": [],
   "source": []
  }
 ]
}